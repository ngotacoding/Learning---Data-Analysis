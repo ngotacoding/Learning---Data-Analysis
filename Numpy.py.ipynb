{
 "cells": [
  {
   "cell_type": "markdown",
   "id": "76d213d1",
   "metadata": {},
   "source": [
    "# WHY CHOOSE NUMPY. 16TH NOVEMBER, 2021"
   ]
  },
  {
   "cell_type": "markdown",
   "id": "ef245ba3",
   "metadata": {},
   "source": [
    "## Numpy is faster than lists.\n",
    "This is because numpy uses fixed types.\n",
    "Numpy integer values are stored as binary values stored as int32 by default.\n",
    "You can specify if you need int32,int16 or int8.\n",
    "Anpther advantage of numpy arrays over lists is that there is no typechecking when iterating through each item in the array."
   ]
  },
  {
   "cell_type": "markdown",
   "id": "ecb128ed",
   "metadata": {},
   "source": [
    "Numpy uses contiguous memory.\n",
    "All information is next to each other.\n",
    "1. SIMD VECTOR PROCESSING-Single Instructions Multiple Data. Perfom operations on all items at one time using simple instruction.\n",
    "2. We can more effectively use our cache. Shorter memory lookups.\n",
    "3. We can do all list operations on numpy arrays plus more."
   ]
  },
  {
   "cell_type": "markdown",
   "id": "178d6336",
   "metadata": {},
   "source": [
    "## With lists\n",
    "Integer values store a lot more information.\n",
    "The int type in Python consists of Object Value, Object Type, Reference Value, and size. Hence takes more space."
   ]
  },
  {
   "cell_type": "markdown",
   "id": "8a733ac6",
   "metadata": {},
   "source": [
    "Lists contains pointers to items that are stored in different places in the computer's memory. Hence is less fast esp when performing functions on all items at the same time."
   ]
  },
  {
   "cell_type": "markdown",
   "id": "c6177782",
   "metadata": {},
   "source": [
    "## Applications of Numpy"
   ]
  },
  {
   "cell_type": "markdown",
   "id": "f5914f1c",
   "metadata": {},
   "source": [
    "### Mathematics\n",
    "Matlab Replacement"
   ]
  },
  {
   "cell_type": "markdown",
   "id": "1d94351b",
   "metadata": {},
   "source": [
    "### Plotting\n",
    "Matplotlib"
   ]
  },
  {
   "cell_type": "markdown",
   "id": "64a3d4d5",
   "metadata": {},
   "source": [
    "### Backend to other libraries\n",
    "Such as pandas, Connect 4,Digital Photography"
   ]
  },
  {
   "cell_type": "markdown",
   "id": "d57fc38c",
   "metadata": {},
   "source": [
    "### Machine Learning\n",
    "Very similar to tensor library especially on how they store values."
   ]
  },
  {
   "cell_type": "markdown",
   "id": "90468723",
   "metadata": {},
   "source": [
    "# ONTO CODE"
   ]
  },
  {
   "cell_type": "code",
   "execution_count": 1,
   "id": "f8b1d7ec",
   "metadata": {},
   "outputs": [],
   "source": [
    "import numpy as np"
   ]
  },
  {
   "cell_type": "markdown",
   "id": "5135114a",
   "metadata": {},
   "source": [
    "## The Basics"
   ]
  },
  {
   "cell_type": "markdown",
   "id": "e2968428",
   "metadata": {},
   "source": [
    "### Initialize array"
   ]
  },
  {
   "cell_type": "markdown",
   "id": "339bec0e",
   "metadata": {},
   "source": [
    "#### 1D Array"
   ]
  },
  {
   "cell_type": "code",
   "execution_count": 2,
   "id": "1911423b",
   "metadata": {},
   "outputs": [
    {
     "name": "stdout",
     "output_type": "stream",
     "text": [
      "[1 2 3]\n"
     ]
    }
   ],
   "source": [
    "a=np.array([1,2,3])\n",
    "print(a)"
   ]
  },
  {
   "cell_type": "markdown",
   "id": "196d3263",
   "metadata": {},
   "source": [
    "#### 2D Array"
   ]
  },
  {
   "cell_type": "code",
   "execution_count": 3,
   "id": "06267027",
   "metadata": {},
   "outputs": [
    {
     "name": "stdout",
     "output_type": "stream",
     "text": [
      "[[9. 8. 7.]\n",
      " [6. 5. 4.]]\n"
     ]
    }
   ],
   "source": [
    "b=np.array([[9.0,8.0,7.0],[6.0,5.0,4.0]])\n",
    "print(b)"
   ]
  },
  {
   "cell_type": "markdown",
   "id": "06092068",
   "metadata": {},
   "source": [
    "We can create list within a list within a list to create 3D arrays."
   ]
  },
  {
   "cell_type": "markdown",
   "id": "a46da30f",
   "metadata": {},
   "source": [
    "#### Get Dimension"
   ]
  },
  {
   "cell_type": "code",
   "execution_count": 4,
   "id": "5ec87251",
   "metadata": {},
   "outputs": [
    {
     "data": {
      "text/plain": [
       "1"
      ]
     },
     "execution_count": 4,
     "metadata": {},
     "output_type": "execute_result"
    }
   ],
   "source": [
    "a.ndim"
   ]
  },
  {
   "cell_type": "code",
   "execution_count": 5,
   "id": "4c265b40",
   "metadata": {},
   "outputs": [
    {
     "data": {
      "text/plain": [
       "2"
      ]
     },
     "execution_count": 5,
     "metadata": {},
     "output_type": "execute_result"
    }
   ],
   "source": [
    "b.ndim"
   ]
  },
  {
   "cell_type": "markdown",
   "id": "fcb6825d",
   "metadata": {},
   "source": [
    "#### Get Shape"
   ]
  },
  {
   "cell_type": "code",
   "execution_count": 6,
   "id": "c3dd3e79",
   "metadata": {},
   "outputs": [
    {
     "data": {
      "text/plain": [
       "(3,)"
      ]
     },
     "execution_count": 6,
     "metadata": {},
     "output_type": "execute_result"
    }
   ],
   "source": [
    "a.shape"
   ]
  },
  {
   "cell_type": "code",
   "execution_count": 7,
   "id": "3d55ec68",
   "metadata": {},
   "outputs": [
    {
     "data": {
      "text/plain": [
       "(2, 3)"
      ]
     },
     "execution_count": 7,
     "metadata": {},
     "output_type": "execute_result"
    }
   ],
   "source": [
    "b.shape"
   ]
  },
  {
   "cell_type": "markdown",
   "id": "41c1feab",
   "metadata": {},
   "source": [
    "Shape comes in rows by columns"
   ]
  },
  {
   "cell_type": "markdown",
   "id": "aafe9f87",
   "metadata": {},
   "source": [
    "#### Get Type"
   ]
  },
  {
   "cell_type": "code",
   "execution_count": 8,
   "id": "330f2ea7",
   "metadata": {},
   "outputs": [
    {
     "data": {
      "text/plain": [
       "dtype('int64')"
      ]
     },
     "execution_count": 8,
     "metadata": {},
     "output_type": "execute_result"
    }
   ],
   "source": [
    "a.dtype"
   ]
  },
  {
   "cell_type": "code",
   "execution_count": 9,
   "id": "f3190f81",
   "metadata": {},
   "outputs": [
    {
     "data": {
      "text/plain": [
       "dtype('float64')"
      ]
     },
     "execution_count": 9,
     "metadata": {},
     "output_type": "execute_result"
    }
   ],
   "source": [
    "b.dtype"
   ]
  },
  {
   "cell_type": "markdown",
   "id": "da33b2ae",
   "metadata": {},
   "source": [
    "##### Specify Type"
   ]
  },
  {
   "cell_type": "code",
   "execution_count": 10,
   "id": "2a3fc00f",
   "metadata": {},
   "outputs": [
    {
     "data": {
      "text/plain": [
       "dtype('int16')"
      ]
     },
     "execution_count": 10,
     "metadata": {},
     "output_type": "execute_result"
    }
   ],
   "source": [
    "a=np.array([1,2,3], dtype='int16')\n",
    "a.dtype"
   ]
  },
  {
   "cell_type": "markdown",
   "id": "d745ee08",
   "metadata": {},
   "source": [
    "####  Get Size\n",
    "Returns Bytes"
   ]
  },
  {
   "cell_type": "code",
   "execution_count": 11,
   "id": "7d937297",
   "metadata": {},
   "outputs": [
    {
     "data": {
      "text/plain": [
       "2"
      ]
     },
     "execution_count": 11,
     "metadata": {},
     "output_type": "execute_result"
    }
   ],
   "source": [
    "a.itemsize"
   ]
  },
  {
   "cell_type": "code",
   "execution_count": 12,
   "id": "60a25186",
   "metadata": {},
   "outputs": [
    {
     "data": {
      "text/plain": [
       "4"
      ]
     },
     "execution_count": 12,
     "metadata": {},
     "output_type": "execute_result"
    }
   ],
   "source": [
    "a=np.array([1,2,3], dtype='int32')\n",
    "a.itemsize"
   ]
  },
  {
   "cell_type": "code",
   "execution_count": 13,
   "id": "4f107abc",
   "metadata": {},
   "outputs": [
    {
     "data": {
      "text/plain": [
       "8"
      ]
     },
     "execution_count": 13,
     "metadata": {},
     "output_type": "execute_result"
    }
   ],
   "source": [
    "b=np.array([[9.0,8.0,7.0],[6.0,5.0,4.0]])\n",
    "b.itemsize"
   ]
  },
  {
   "cell_type": "markdown",
   "id": "67f18131",
   "metadata": {},
   "source": [
    "#### Get Total Size"
   ]
  },
  {
   "cell_type": "markdown",
   "id": "fed85d34",
   "metadata": {},
   "source": [
    "##### x.size\n",
    "We use x.size to get number of elements where x is the array"
   ]
  },
  {
   "cell_type": "code",
   "execution_count": 14,
   "id": "686c29d6",
   "metadata": {},
   "outputs": [
    {
     "data": {
      "text/plain": [
       "3"
      ]
     },
     "execution_count": 14,
     "metadata": {},
     "output_type": "execute_result"
    }
   ],
   "source": [
    "a.size"
   ]
  },
  {
   "cell_type": "code",
   "execution_count": 15,
   "id": "d0587949",
   "metadata": {},
   "outputs": [
    {
     "data": {
      "text/plain": [
       "6"
      ]
     },
     "execution_count": 15,
     "metadata": {},
     "output_type": "execute_result"
    }
   ],
   "source": [
    "b.size"
   ]
  },
  {
   "cell_type": "markdown",
   "id": "8c042ff9",
   "metadata": {},
   "source": [
    "Total size = a.size*a.itemsize"
   ]
  },
  {
   "cell_type": "code",
   "execution_count": 16,
   "id": "f3daaa74",
   "metadata": {},
   "outputs": [
    {
     "data": {
      "text/plain": [
       "12"
      ]
     },
     "execution_count": 16,
     "metadata": {},
     "output_type": "execute_result"
    }
   ],
   "source": [
    "a.size*a.itemsize"
   ]
  },
  {
   "cell_type": "code",
   "execution_count": 17,
   "id": "7159cd2c",
   "metadata": {},
   "outputs": [
    {
     "data": {
      "text/plain": [
       "48"
      ]
     },
     "execution_count": 17,
     "metadata": {},
     "output_type": "execute_result"
    }
   ],
   "source": [
    "b.size*b.itemsize "
   ]
  },
  {
   "cell_type": "markdown",
   "id": "2264b9a2",
   "metadata": {},
   "source": [
    "## Accessing/Changing specific elements,rows, columns e.t.c"
   ]
  },
  {
   "cell_type": "code",
   "execution_count": 18,
   "id": "f8b66d6f",
   "metadata": {},
   "outputs": [
    {
     "name": "stdout",
     "output_type": "stream",
     "text": [
      "[[ 1  2  3  4  5  6  7]\n",
      " [ 8  9 10 11 12 13 14]]\n"
     ]
    }
   ],
   "source": [
    "a=np.array([[1,2,3,4,5,6,7],[8,9,10,11,12,13,14]])\n",
    "print(a)"
   ]
  },
  {
   "cell_type": "markdown",
   "id": "dd5604e9",
   "metadata": {},
   "source": [
    "#### Get a specific element [r , c]"
   ]
  },
  {
   "cell_type": "code",
   "execution_count": 19,
   "id": "f0b70db5",
   "metadata": {},
   "outputs": [
    {
     "data": {
      "text/plain": [
       "13"
      ]
     },
     "execution_count": 19,
     "metadata": {},
     "output_type": "execute_result"
    }
   ],
   "source": [
    "a[1,5]"
   ]
  },
  {
   "cell_type": "markdown",
   "id": "dc589f5c",
   "metadata": {},
   "source": [
    "#### Get specific row "
   ]
  },
  {
   "cell_type": "code",
   "execution_count": 20,
   "id": "da6b2e92",
   "metadata": {},
   "outputs": [
    {
     "data": {
      "text/plain": [
       "array([1, 2, 3, 4, 5, 6, 7])"
      ]
     },
     "execution_count": 20,
     "metadata": {},
     "output_type": "execute_result"
    }
   ],
   "source": [
    "a[0,:]"
   ]
  },
  {
   "cell_type": "code",
   "execution_count": 21,
   "id": "bce70ad0",
   "metadata": {},
   "outputs": [
    {
     "data": {
      "text/plain": [
       "array([ 8,  9, 10, 11, 12, 13, 14])"
      ]
     },
     "execution_count": 21,
     "metadata": {},
     "output_type": "execute_result"
    }
   ],
   "source": [
    "a[1,:]"
   ]
  },
  {
   "cell_type": "markdown",
   "id": "66c067c2",
   "metadata": {},
   "source": [
    "#### Get specific column "
   ]
  },
  {
   "cell_type": "code",
   "execution_count": 22,
   "id": "7477ccfb",
   "metadata": {},
   "outputs": [
    {
     "data": {
      "text/plain": [
       "array([ 4, 11])"
      ]
     },
     "execution_count": 22,
     "metadata": {},
     "output_type": "execute_result"
    }
   ],
   "source": [
    "a[:,3]"
   ]
  },
  {
   "cell_type": "code",
   "execution_count": 23,
   "id": "992175d6",
   "metadata": {},
   "outputs": [
    {
     "data": {
      "text/plain": [
       "array([ 3, 10])"
      ]
     },
     "execution_count": 23,
     "metadata": {},
     "output_type": "execute_result"
    }
   ],
   "source": [
    "a[:,2]"
   ]
  },
  {
   "cell_type": "code",
   "execution_count": 24,
   "id": "f9896f02",
   "metadata": {},
   "outputs": [
    {
     "data": {
      "text/plain": [
       "array([1, 8])"
      ]
     },
     "execution_count": 24,
     "metadata": {},
     "output_type": "execute_result"
    }
   ],
   "source": [
    "a[:,0]"
   ]
  },
  {
   "cell_type": "markdown",
   "id": "3a1392ef",
   "metadata": {},
   "source": [
    "#### Getting a little fancy [startindex:endindex:stepsize]"
   ]
  },
  {
   "cell_type": "code",
   "execution_count": 25,
   "id": "27d900b5",
   "metadata": {},
   "outputs": [
    {
     "data": {
      "text/plain": [
       "array([2, 4, 6])"
      ]
     },
     "execution_count": 25,
     "metadata": {},
     "output_type": "execute_result"
    }
   ],
   "source": [
    "a[0,1:6:2]"
   ]
  },
  {
   "cell_type": "code",
   "execution_count": 26,
   "id": "d39acc39",
   "metadata": {},
   "outputs": [
    {
     "data": {
      "text/plain": [
       "array([2, 4, 6])"
      ]
     },
     "execution_count": 26,
     "metadata": {},
     "output_type": "execute_result"
    }
   ],
   "source": [
    "a[0,1:-1:2]"
   ]
  },
  {
   "cell_type": "markdown",
   "id": "bcc1f4cc",
   "metadata": {},
   "source": [
    "#### Changing elements"
   ]
  },
  {
   "cell_type": "code",
   "execution_count": 27,
   "id": "ca5fced8",
   "metadata": {},
   "outputs": [],
   "source": [
    "a[1,5]=20"
   ]
  },
  {
   "cell_type": "code",
   "execution_count": 28,
   "id": "0181d4e3",
   "metadata": {},
   "outputs": [
    {
     "name": "stdout",
     "output_type": "stream",
     "text": [
      "[[ 1  2  3  4  5  6  7]\n",
      " [ 8  9 10 11 12 20 14]]\n"
     ]
    }
   ],
   "source": [
    "print(a)"
   ]
  },
  {
   "cell_type": "code",
   "execution_count": 29,
   "id": "3d7bc84c",
   "metadata": {},
   "outputs": [
    {
     "name": "stdout",
     "output_type": "stream",
     "text": [
      "[[ 1  2  1  4  5  6  7]\n",
      " [ 8  9  2 11 12 20 14]]\n"
     ]
    }
   ],
   "source": [
    "a[:,2]=[1,2]\n",
    "print(a)"
   ]
  },
  {
   "cell_type": "markdown",
   "id": "c7d91be1",
   "metadata": {},
   "source": [
    "### `Initialize different types of arrays"
   ]
  },
  {
   "cell_type": "markdown",
   "id": "799f4202",
   "metadata": {},
   "source": [
    "#### Zeros Matrix"
   ]
  },
  {
   "cell_type": "markdown",
   "id": "6ab2d734",
   "metadata": {},
   "source": [
    "All Zeros matrix"
   ]
  },
  {
   "cell_type": "markdown",
   "id": "eaadc593",
   "metadata": {},
   "source": [
    "np.zeros(Matrix shape)\n"
   ]
  },
  {
   "cell_type": "code",
   "execution_count": 30,
   "id": "fe4bb906",
   "metadata": {},
   "outputs": [
    {
     "data": {
      "text/plain": [
       "array([0., 0., 0., 0., 0., 0.])"
      ]
     },
     "execution_count": 30,
     "metadata": {},
     "output_type": "execute_result"
    }
   ],
   "source": [
    "np.zeros(6)"
   ]
  },
  {
   "cell_type": "markdown",
   "id": "69d3042a",
   "metadata": {},
   "source": [
    "Note second bracket when shape is 2d & up"
   ]
  },
  {
   "cell_type": "code",
   "execution_count": 31,
   "id": "6b2cd228",
   "metadata": {},
   "outputs": [
    {
     "data": {
      "text/plain": [
       "array([[[0., 0.],\n",
       "        [0., 0.]],\n",
       "\n",
       "       [[0., 0.],\n",
       "        [0., 0.]]])"
      ]
     },
     "execution_count": 31,
     "metadata": {},
     "output_type": "execute_result"
    }
   ],
   "source": [
    "np.zeros((2,2,2))"
   ]
  },
  {
   "cell_type": "code",
   "execution_count": 32,
   "id": "cf253fc3",
   "metadata": {},
   "outputs": [
    {
     "data": {
      "text/plain": [
       "array([[0., 0., 0.],\n",
       "       [0., 0., 0.]])"
      ]
     },
     "execution_count": 32,
     "metadata": {},
     "output_type": "execute_result"
    }
   ],
   "source": [
    "np.zeros((2,3))"
   ]
  },
  {
   "cell_type": "code",
   "execution_count": 33,
   "id": "7560b8b5",
   "metadata": {},
   "outputs": [
    {
     "ename": "TypeError",
     "evalue": "Cannot interpret '3' as a data type",
     "output_type": "error",
     "traceback": [
      "\u001b[0;31m---------------------------------------------------------------------------\u001b[0m",
      "\u001b[0;31mTypeError\u001b[0m                                 Traceback (most recent call last)",
      "\u001b[0;32m<ipython-input-33-4e90523d4f85>\u001b[0m in \u001b[0;36m<module>\u001b[0;34m\u001b[0m\n\u001b[1;32m      1\u001b[0m \u001b[0;31m#Results in error\u001b[0m\u001b[0;34m\u001b[0m\u001b[0;34m\u001b[0m\u001b[0;34m\u001b[0m\u001b[0m\n\u001b[0;32m----> 2\u001b[0;31m \u001b[0mnp\u001b[0m\u001b[0;34m.\u001b[0m\u001b[0mzeros\u001b[0m\u001b[0;34m(\u001b[0m\u001b[0;36m2\u001b[0m\u001b[0;34m,\u001b[0m\u001b[0;36m3\u001b[0m\u001b[0;34m)\u001b[0m\u001b[0;34m\u001b[0m\u001b[0;34m\u001b[0m\u001b[0m\n\u001b[0m",
      "\u001b[0;31mTypeError\u001b[0m: Cannot interpret '3' as a data type"
     ]
    }
   ],
   "source": [
    "#Results in error\n",
    "np.zeros(2,3)"
   ]
  },
  {
   "cell_type": "markdown",
   "id": "84a13691",
   "metadata": {},
   "source": [
    "#### Ones Matrix"
   ]
  },
  {
   "cell_type": "markdown",
   "id": "3ed633d5",
   "metadata": {},
   "source": [
    "All ones matrix"
   ]
  },
  {
   "cell_type": "markdown",
   "id": "9d3a36e6",
   "metadata": {},
   "source": [
    "np.ones(MatrixShape)"
   ]
  },
  {
   "cell_type": "markdown",
   "id": "08c8c311",
   "metadata": {},
   "source": [
    "Similar theory to zeros"
   ]
  },
  {
   "cell_type": "code",
   "execution_count": 34,
   "id": "3bc15fad",
   "metadata": {},
   "outputs": [
    {
     "data": {
      "text/plain": [
       "array([1., 1.])"
      ]
     },
     "execution_count": 34,
     "metadata": {},
     "output_type": "execute_result"
    }
   ],
   "source": [
    "np.ones(2)"
   ]
  },
  {
   "cell_type": "code",
   "execution_count": 35,
   "id": "9eeb783c",
   "metadata": {},
   "outputs": [
    {
     "data": {
      "text/plain": [
       "array([[1., 1.],\n",
       "       [1., 1.]])"
      ]
     },
     "execution_count": 35,
     "metadata": {},
     "output_type": "execute_result"
    }
   ],
   "source": [
    "np.ones((2,2))"
   ]
  },
  {
   "cell_type": "code",
   "execution_count": 36,
   "id": "e39359d7",
   "metadata": {},
   "outputs": [
    {
     "name": "stdout",
     "output_type": "stream",
     "text": [
      "[[[1. 1. 1.]\n",
      "  [1. 1. 1.]]\n",
      "\n",
      " [[1. 1. 1.]\n",
      "  [1. 1. 1.]]]\n"
     ]
    }
   ],
   "source": [
    "y=np.ones((2,2,3))\n",
    "print(y)"
   ]
  },
  {
   "cell_type": "markdown",
   "id": "5b84a889",
   "metadata": {},
   "source": [
    "Can specify data type in ones matrix"
   ]
  },
  {
   "cell_type": "code",
   "execution_count": 37,
   "id": "24caa4ad",
   "metadata": {},
   "outputs": [
    {
     "name": "stdout",
     "output_type": "stream",
     "text": [
      "[[[1 1 1]\n",
      "  [1 1 1]]\n",
      "\n",
      " [[1 1 1]\n",
      "  [1 1 1]]]\n"
     ]
    }
   ],
   "source": [
    "z=np.ones((2,2,3), dtype='int32')\n",
    "print(z)"
   ]
  },
  {
   "cell_type": "code",
   "execution_count": 38,
   "id": "38fc25e1",
   "metadata": {},
   "outputs": [
    {
     "data": {
      "text/plain": [
       "dtype('int32')"
      ]
     },
     "execution_count": 38,
     "metadata": {},
     "output_type": "execute_result"
    }
   ],
   "source": [
    "z.dtype"
   ]
  },
  {
   "cell_type": "code",
   "execution_count": 39,
   "id": "edda70a4",
   "metadata": {},
   "outputs": [
    {
     "data": {
      "text/plain": [
       "dtype('float64')"
      ]
     },
     "execution_count": 39,
     "metadata": {},
     "output_type": "execute_result"
    }
   ],
   "source": [
    "y.dtype"
   ]
  },
  {
   "cell_type": "markdown",
   "id": "e8c88308",
   "metadata": {},
   "source": [
    "#### Full Matrix other number"
   ]
  },
  {
   "cell_type": "markdown",
   "id": "ed407aac",
   "metadata": {},
   "source": [
    "np.full(shape,number)"
   ]
  },
  {
   "cell_type": "code",
   "execution_count": 40,
   "id": "0932df61",
   "metadata": {},
   "outputs": [
    {
     "data": {
      "text/plain": [
       "array([[4343., 4343.],\n",
       "       [4343., 4343.]])"
      ]
     },
     "execution_count": 40,
     "metadata": {},
     "output_type": "execute_result"
    }
   ],
   "source": [
    "np.full((2,2),4343,dtype=\"float64\")"
   ]
  },
  {
   "cell_type": "markdown",
   "id": "11782496",
   "metadata": {},
   "source": [
    "##### use shape of already used variable/matrix"
   ]
  },
  {
   "cell_type": "code",
   "execution_count": 41,
   "id": "f87f0dbe",
   "metadata": {},
   "outputs": [
    {
     "data": {
      "text/plain": [
       "array([[[23, 23, 23],\n",
       "        [23, 23, 23]],\n",
       "\n",
       "       [[23, 23, 23],\n",
       "        [23, 23, 23]]])"
      ]
     },
     "execution_count": 41,
     "metadata": {},
     "output_type": "execute_result"
    }
   ],
   "source": [
    "np.full(z.shape,23)"
   ]
  },
  {
   "cell_type": "markdown",
   "id": "26c11b43",
   "metadata": {},
   "source": [
    "<i>You can also use np.full_like(x,y)<br>\n",
    "Makes new array similar to x in all aspects including dtype"
   ]
  },
  {
   "cell_type": "code",
   "execution_count": 42,
   "id": "1bf85faf",
   "metadata": {},
   "outputs": [
    {
     "data": {
      "text/plain": [
       "array([[[23, 23, 23],\n",
       "        [23, 23, 23]],\n",
       "\n",
       "       [[23, 23, 23],\n",
       "        [23, 23, 23]]], dtype=int32)"
      ]
     },
     "execution_count": 42,
     "metadata": {},
     "output_type": "execute_result"
    }
   ],
   "source": [
    "np.full_like(z,23)"
   ]
  },
  {
   "cell_type": "raw",
   "id": "a27e9cf3",
   "metadata": {},
   "source": []
  },
  {
   "cell_type": "markdown",
   "id": "6bbd49df",
   "metadata": {},
   "source": [
    "### Matrix of random numbers\n"
   ]
  },
  {
   "cell_type": "markdown",
   "id": "e2140678",
   "metadata": {},
   "source": [
    "<b>Random numbers btn 0 & 1 -(decimals)</b><br><br>\n",
    "use np.random.rand(Matrix shape)"
   ]
  },
  {
   "cell_type": "code",
   "execution_count": 43,
   "id": "52c93919",
   "metadata": {},
   "outputs": [
    {
     "data": {
      "text/plain": [
       "array([[0.22366488, 0.56210486, 0.5975047 , 0.14816624],\n",
       "       [0.76506764, 0.74810284, 0.96232444, 0.66174797],\n",
       "       [0.37160985, 0.44260886, 0.60950521, 0.07759771]])"
      ]
     },
     "execution_count": 43,
     "metadata": {},
     "output_type": "execute_result"
    }
   ],
   "source": [
    "np.random.rand(3,4)"
   ]
  },
  {
   "cell_type": "code",
   "execution_count": 44,
   "id": "4ac103f4",
   "metadata": {},
   "outputs": [
    {
     "data": {
      "text/plain": [
       "array([0.87027474, 0.16100761])"
      ]
     },
     "execution_count": 44,
     "metadata": {},
     "output_type": "execute_result"
    }
   ],
   "source": [
    "np.random.rand(2,)"
   ]
  },
  {
   "cell_type": "code",
   "execution_count": 45,
   "id": "e1896086",
   "metadata": {},
   "outputs": [
    {
     "data": {
      "text/plain": [
       "array([[0.19516578],\n",
       "       [0.75594854]])"
      ]
     },
     "execution_count": 45,
     "metadata": {},
     "output_type": "execute_result"
    }
   ],
   "source": [
    "np.random.rand(2,1)"
   ]
  },
  {
   "cell_type": "markdown",
   "id": "dd6b8bc3",
   "metadata": {},
   "source": [
    "Same shape as other array x<br>\n",
    "Use np.random.random_sample(x.shape)"
   ]
  },
  {
   "cell_type": "code",
   "execution_count": 46,
   "id": "11eb27fd",
   "metadata": {},
   "outputs": [
    {
     "data": {
      "text/plain": [
       "array([[[0.8044111 , 0.32871964, 0.86469216],\n",
       "        [0.89864069, 0.63750165, 0.43861496]],\n",
       "\n",
       "       [[0.07353652, 0.95503627, 0.77679784],\n",
       "        [0.81352463, 0.90230115, 0.71035478]]])"
      ]
     },
     "execution_count": 46,
     "metadata": {},
     "output_type": "execute_result"
    }
   ],
   "source": [
    "np.random.random_sample(z.shape)"
   ]
  },
  {
   "cell_type": "markdown",
   "id": "bde0ac0c",
   "metadata": {},
   "source": [
    "#### Random Integer Values"
   ]
  },
  {
   "cell_type": "markdown",
   "id": "63ecea2b",
   "metadata": {},
   "source": [
    "use np.random.randint(start number,(end number-<i>optional</i>), size=())"
   ]
  },
  {
   "cell_type": "code",
   "execution_count": 47,
   "id": "fcaf005c",
   "metadata": {},
   "outputs": [
    {
     "data": {
      "text/plain": [
       "array([[3, 2, 3],\n",
       "       [3, 1, 3]])"
      ]
     },
     "execution_count": 47,
     "metadata": {},
     "output_type": "execute_result"
    }
   ],
   "source": [
    "np.random.randint(4, size=(2,3))"
   ]
  },
  {
   "cell_type": "code",
   "execution_count": 48,
   "id": "d497dbae",
   "metadata": {},
   "outputs": [
    {
     "data": {
      "text/plain": [
       "array([[[13, 11,  5, 14, 22, 13],\n",
       "        [12, 21, 22,  9, 17, 18],\n",
       "        [ 4, 19, 10, 20, 13, 17]],\n",
       "\n",
       "       [[ 4, 17, 19, 12,  6, 17],\n",
       "        [ 6,  4, 18, 22,  5, 19],\n",
       "        [13, 12, 13, 10, 10, 11]]])"
      ]
     },
     "execution_count": 48,
     "metadata": {},
     "output_type": "execute_result"
    }
   ],
   "source": [
    "np.random.randint(4,23, size=(2,3,6))"
   ]
  },
  {
   "cell_type": "markdown",
   "id": "8b462875",
   "metadata": {},
   "source": [
    "#### Identity Matrix"
   ]
  },
  {
   "cell_type": "markdown",
   "id": "98c69518",
   "metadata": {},
   "source": [
    "np.identity(x), where x = shape"
   ]
  },
  {
   "cell_type": "code",
   "execution_count": 49,
   "id": "297bb094",
   "metadata": {},
   "outputs": [
    {
     "data": {
      "text/plain": [
       "array([[1., 0., 0., 0.],\n",
       "       [0., 1., 0., 0.],\n",
       "       [0., 0., 1., 0.],\n",
       "       [0., 0., 0., 1.]])"
      ]
     },
     "execution_count": 49,
     "metadata": {},
     "output_type": "execute_result"
    }
   ],
   "source": [
    "np.identity(4)"
   ]
  },
  {
   "cell_type": "code",
   "execution_count": 50,
   "id": "4308cc5e",
   "metadata": {},
   "outputs": [
    {
     "data": {
      "text/plain": [
       "array([[1., 0., 0.],\n",
       "       [0., 1., 0.],\n",
       "       [0., 0., 1.]])"
      ]
     },
     "execution_count": 50,
     "metadata": {},
     "output_type": "execute_result"
    }
   ],
   "source": [
    "np.identity(3)"
   ]
  },
  {
   "cell_type": "markdown",
   "id": "8828a4af",
   "metadata": {},
   "source": [
    "#### Other useful functions"
   ]
  },
  {
   "cell_type": "code",
   "execution_count": 51,
   "id": "fa9cbcc6",
   "metadata": {},
   "outputs": [
    {
     "name": "stdout",
     "output_type": "stream",
     "text": [
      "[[1 2 3]\n",
      " [1 2 3]\n",
      " [1 2 3]\n",
      " [1 2 3]\n",
      " [1 2 3]]\n"
     ]
    }
   ],
   "source": [
    "arr=np.array([[1,2,3]]) #note that its a 2D array\n",
    "r1=np.repeat(arr,5, axis=0)\n",
    "print(r1)"
   ]
  },
  {
   "cell_type": "markdown",
   "id": "b07a0cc8",
   "metadata": {},
   "source": [
    "### Be careful when printing arrays"
   ]
  },
  {
   "cell_type": "code",
   "execution_count": 52,
   "id": "2ab446e5",
   "metadata": {},
   "outputs": [
    {
     "name": "stdout",
     "output_type": "stream",
     "text": [
      "[100   2   3]\n",
      "[100   2   3]\n"
     ]
    }
   ],
   "source": [
    "a=np.array([1,2,3])\n",
    "b=a\n",
    "b[0]=100\n",
    "print(b)\n",
    "print(a)"
   ]
  },
  {
   "cell_type": "markdown",
   "id": "35a51e42",
   "metadata": {},
   "source": [
    "As you can see above, saying b=a means b points in the same location in memory as a<br>\n",
    "Therefore modifying b modifies a<br>\n",
    "<b><i>Therefore its advised to use the .copy() function"
   ]
  },
  {
   "cell_type": "code",
   "execution_count": 53,
   "id": "2dae789b",
   "metadata": {},
   "outputs": [
    {
     "name": "stdout",
     "output_type": "stream",
     "text": [
      "[100   2   3]\n",
      "[1 2 3]\n"
     ]
    }
   ],
   "source": [
    "a=np.array([1,2,3])\n",
    "b=a.copy()\n",
    "b[0]=100\n",
    "print(b)\n",
    "print(a)"
   ]
  },
  {
   "cell_type": "markdown",
   "id": "17f7552e",
   "metadata": {},
   "source": [
    "## Mathematics"
   ]
  },
  {
   "cell_type": "markdown",
   "id": "663c6880",
   "metadata": {},
   "source": [
    "Applying a maths operation to an array means that all values in the array are subject to the operation"
   ]
  },
  {
   "cell_type": "code",
   "execution_count": 54,
   "id": "d5eb17b4",
   "metadata": {},
   "outputs": [
    {
     "name": "stdout",
     "output_type": "stream",
     "text": [
      "[1 2 3]\n"
     ]
    }
   ],
   "source": [
    "print(a)"
   ]
  },
  {
   "cell_type": "code",
   "execution_count": 55,
   "id": "555a145b",
   "metadata": {},
   "outputs": [
    {
     "data": {
      "text/plain": [
       "array([3, 4, 5])"
      ]
     },
     "execution_count": 55,
     "metadata": {},
     "output_type": "execute_result"
    }
   ],
   "source": [
    "a+2"
   ]
  },
  {
   "cell_type": "code",
   "execution_count": 56,
   "id": "7f3875ab",
   "metadata": {},
   "outputs": [
    {
     "data": {
      "text/plain": [
       "array([0.5, 1. , 1.5])"
      ]
     },
     "execution_count": 56,
     "metadata": {},
     "output_type": "execute_result"
    }
   ],
   "source": [
    "a/2"
   ]
  },
  {
   "cell_type": "code",
   "execution_count": 57,
   "id": "ee6630ca",
   "metadata": {},
   "outputs": [
    {
     "data": {
      "text/plain": [
       "array([2, 4, 6])"
      ]
     },
     "execution_count": 57,
     "metadata": {},
     "output_type": "execute_result"
    }
   ],
   "source": [
    "a*2"
   ]
  },
  {
   "cell_type": "code",
   "execution_count": 58,
   "id": "59d18a01",
   "metadata": {},
   "outputs": [
    {
     "data": {
      "text/plain": [
       "array([ 1,  8, 27])"
      ]
     },
     "execution_count": 58,
     "metadata": {},
     "output_type": "execute_result"
    }
   ],
   "source": [
    "a**3"
   ]
  },
  {
   "cell_type": "code",
   "execution_count": 59,
   "id": "7acd3aaa",
   "metadata": {},
   "outputs": [
    {
     "data": {
      "text/plain": [
       "array([1, 0, 1])"
      ]
     },
     "execution_count": 59,
     "metadata": {},
     "output_type": "execute_result"
    }
   ],
   "source": [
    "a%2"
   ]
  },
  {
   "cell_type": "code",
   "execution_count": 60,
   "id": "38cec0c0",
   "metadata": {},
   "outputs": [
    {
     "data": {
      "text/plain": [
       "array([ 0.54030231, -0.41614684, -0.9899925 ])"
      ]
     },
     "execution_count": 60,
     "metadata": {},
     "output_type": "execute_result"
    }
   ],
   "source": [
    "np.cos(a)"
   ]
  },
  {
   "cell_type": "markdown",
   "id": "3baeaa5e",
   "metadata": {},
   "source": [
    "<i><b>For more math</b> https://docs.scipy.org/doc/numpy/reference/routines.math.html</i>"
   ]
  },
  {
   "cell_type": "markdown",
   "id": "b1dc3865",
   "metadata": {},
   "source": [
    "## Linear Algebra"
   ]
  },
  {
   "cell_type": "code",
   "execution_count": 61,
   "id": "6c7a6fb5",
   "metadata": {},
   "outputs": [
    {
     "name": "stdout",
     "output_type": "stream",
     "text": [
      "[[1. 1. 1. 1. 1.]\n",
      " [1. 1. 1. 1. 1.]\n",
      " [1. 1. 1. 1. 1.]\n",
      " [1. 1. 1. 1. 1.]]\n",
      "[[5 5 5 5]\n",
      " [5 5 5 5]\n",
      " [5 5 5 5]\n",
      " [5 5 5 5]\n",
      " [5 5 5 5]]\n"
     ]
    }
   ],
   "source": [
    "a=np.ones((4,5))\n",
    "print(a)\n",
    "b=np.full((5,4),5)\n",
    "print(b)"
   ]
  },
  {
   "cell_type": "markdown",
   "id": "dec74e53",
   "metadata": {},
   "source": [
    "To multiply matrices x and y, we use <b><i>np.matmul(x,y)</i></b>"
   ]
  },
  {
   "cell_type": "code",
   "execution_count": 62,
   "id": "00857818",
   "metadata": {},
   "outputs": [
    {
     "data": {
      "text/plain": [
       "array([[25., 25., 25., 25.],\n",
       "       [25., 25., 25., 25.],\n",
       "       [25., 25., 25., 25.],\n",
       "       [25., 25., 25., 25.]])"
      ]
     },
     "execution_count": 62,
     "metadata": {},
     "output_type": "execute_result"
    }
   ],
   "source": [
    "np.matmul(a,b)"
   ]
  },
  {
   "cell_type": "markdown",
   "id": "4ab88f70",
   "metadata": {},
   "source": [
    "<b>Find the Determinant</b>"
   ]
  },
  {
   "cell_type": "code",
   "execution_count": 63,
   "id": "9e4bf5b2",
   "metadata": {},
   "outputs": [
    {
     "data": {
      "text/plain": [
       "1.0"
      ]
     },
     "execution_count": 63,
     "metadata": {},
     "output_type": "execute_result"
    }
   ],
   "source": [
    "c=np.identity(4)\n",
    "np.linalg.det(c)"
   ]
  },
  {
   "cell_type": "markdown",
   "id": "3104c55b",
   "metadata": {},
   "source": [
    "<i><b>For more linear algebra</b> https://docs.scipy.org/doc/numpy/reference/routines.linalg.html</i>"
   ]
  },
  {
   "cell_type": "markdown",
   "id": "95d5e8ee",
   "metadata": {},
   "source": [
    "## Statistics"
   ]
  },
  {
   "cell_type": "markdown",
   "id": "936ac359",
   "metadata": {},
   "source": [
    "<i><b>axis=0 refers to columns<br>\n",
    "    axis=1 refers to rows</b></i>"
   ]
  },
  {
   "cell_type": "code",
   "execution_count": 64,
   "id": "07462b75",
   "metadata": {},
   "outputs": [
    {
     "name": "stdout",
     "output_type": "stream",
     "text": [
      "[[1 2 3 4]\n",
      " [5 6 7 8]]\n"
     ]
    }
   ],
   "source": [
    "stats=np.array([[1,2,3,4],[5,6,7,8]])\n",
    "print(stats)"
   ]
  },
  {
   "cell_type": "code",
   "execution_count": 65,
   "id": "08c43f1d",
   "metadata": {},
   "outputs": [
    {
     "data": {
      "text/plain": [
       "1"
      ]
     },
     "execution_count": 65,
     "metadata": {},
     "output_type": "execute_result"
    }
   ],
   "source": [
    "np.min(stats)"
   ]
  },
  {
   "cell_type": "code",
   "execution_count": 66,
   "id": "0c37fae8",
   "metadata": {},
   "outputs": [
    {
     "data": {
      "text/plain": [
       "8"
      ]
     },
     "execution_count": 66,
     "metadata": {},
     "output_type": "execute_result"
    }
   ],
   "source": [
    "np.max(stats)"
   ]
  },
  {
   "cell_type": "code",
   "execution_count": 67,
   "id": "10187516",
   "metadata": {},
   "outputs": [
    {
     "data": {
      "text/plain": [
       "array([5, 6, 7, 8])"
      ]
     },
     "execution_count": 67,
     "metadata": {},
     "output_type": "execute_result"
    }
   ],
   "source": [
    "np.max(stats,axis=0)"
   ]
  },
  {
   "cell_type": "code",
   "execution_count": 68,
   "id": "a701becb",
   "metadata": {},
   "outputs": [
    {
     "data": {
      "text/plain": [
       "array([4, 8])"
      ]
     },
     "execution_count": 68,
     "metadata": {},
     "output_type": "execute_result"
    }
   ],
   "source": [
    "np.max(stats,axis=1)"
   ]
  },
  {
   "cell_type": "code",
   "execution_count": 69,
   "id": "2ae9ef08",
   "metadata": {},
   "outputs": [
    {
     "data": {
      "text/plain": [
       "36"
      ]
     },
     "execution_count": 69,
     "metadata": {},
     "output_type": "execute_result"
    }
   ],
   "source": [
    "np.sum(stats)"
   ]
  },
  {
   "cell_type": "code",
   "execution_count": 70,
   "id": "e3aaac54",
   "metadata": {},
   "outputs": [
    {
     "data": {
      "text/plain": [
       "array([10, 26])"
      ]
     },
     "execution_count": 70,
     "metadata": {},
     "output_type": "execute_result"
    }
   ],
   "source": [
    "np.sum(stats, axis=1)"
   ]
  },
  {
   "cell_type": "code",
   "execution_count": 71,
   "id": "41ccd833",
   "metadata": {},
   "outputs": [
    {
     "data": {
      "text/plain": [
       "array([ 6,  8, 10, 12])"
      ]
     },
     "execution_count": 71,
     "metadata": {},
     "output_type": "execute_result"
    }
   ],
   "source": [
    "np.sum(stats, axis =0)"
   ]
  },
  {
   "cell_type": "markdown",
   "id": "69a4af06",
   "metadata": {},
   "source": [
    "## Reogarnizing arrays"
   ]
  },
  {
   "cell_type": "markdown",
   "id": "347a2522",
   "metadata": {},
   "source": [
    "#### Changing shape of array"
   ]
  },
  {
   "cell_type": "code",
   "execution_count": 72,
   "id": "3fddc8e7",
   "metadata": {},
   "outputs": [
    {
     "name": "stdout",
     "output_type": "stream",
     "text": [
      "[[1 2 3 4]\n",
      " [5 6 7 8]]\n",
      "[[1 2]\n",
      " [3 4]\n",
      " [5 6]\n",
      " [7 8]]\n"
     ]
    }
   ],
   "source": [
    "before=np.array([[1,2,3,4],[5,6,7,8]])\n",
    "print(before)\n",
    "after=before.reshape((4,2))\n",
    "print(after)"
   ]
  },
  {
   "cell_type": "markdown",
   "id": "028d8444",
   "metadata": {},
   "source": [
    "#### Vertically stacking Vectors"
   ]
  },
  {
   "cell_type": "markdown",
   "id": "d5a0d869",
   "metadata": {},
   "source": [
    "Columns must be equal"
   ]
  },
  {
   "cell_type": "code",
   "execution_count": 73,
   "id": "52ed72d4",
   "metadata": {},
   "outputs": [
    {
     "data": {
      "text/plain": [
       "array([[1, 2, 3, 4],\n",
       "       [5, 6, 7, 8]])"
      ]
     },
     "execution_count": 73,
     "metadata": {},
     "output_type": "execute_result"
    }
   ],
   "source": [
    "a=np.array([1,2,3,4])\n",
    "b=np.array([5,6,7,8])\n",
    "np.vstack([a,b])"
   ]
  },
  {
   "cell_type": "code",
   "execution_count": 74,
   "id": "b2be6b03",
   "metadata": {},
   "outputs": [
    {
     "data": {
      "text/plain": [
       "array([[1, 2, 3, 4],\n",
       "       [5, 6, 7, 8],\n",
       "       [5, 6, 7, 8],\n",
       "       [5, 6, 7, 8],\n",
       "       [1, 2, 3, 4]])"
      ]
     },
     "execution_count": 74,
     "metadata": {},
     "output_type": "execute_result"
    }
   ],
   "source": [
    "np.vstack([a,b,b,b,a])"
   ]
  },
  {
   "cell_type": "markdown",
   "id": "4721274e",
   "metadata": {},
   "source": [
    "#### Horizontally stacking Vectors"
   ]
  },
  {
   "cell_type": "markdown",
   "id": "d3d3557a",
   "metadata": {},
   "source": [
    "Rows must be equal"
   ]
  },
  {
   "cell_type": "code",
   "execution_count": 75,
   "id": "2be3ee37",
   "metadata": {},
   "outputs": [
    {
     "name": "stdout",
     "output_type": "stream",
     "text": [
      "[[0. 0. 0. 0. 1. 1. 1.]\n",
      " [0. 0. 0. 0. 1. 1. 1.]\n",
      " [0. 0. 0. 0. 1. 1. 1.]]\n"
     ]
    }
   ],
   "source": [
    "a=np.zeros((3,4))\n",
    "b=np.ones((3,3))\n",
    "z=np.hstack([a,b])\n",
    "print(z)"
   ]
  },
  {
   "cell_type": "markdown",
   "id": "a057c55e",
   "metadata": {},
   "source": [
    "## Miscellaneous"
   ]
  },
  {
   "cell_type": "markdown",
   "id": "7bb01ba8",
   "metadata": {},
   "source": [
    "### Load data from file"
   ]
  },
  {
   "cell_type": "markdown",
   "id": "47af66d2",
   "metadata": {},
   "source": [
    "<b>From txt:</b> np.genfromtxt(filename, delimiter=\"specifies what separates the values\")<br>\n",
    "<b>Change the filetype:</b> variable.astype(\" specifytype <i>e.g int32</i> \")"
   ]
  },
  {
   "cell_type": "markdown",
   "id": "e99f762b",
   "metadata": {},
   "source": [
    "### Boolean Masking and advanced indexing"
   ]
  },
  {
   "cell_type": "code",
   "execution_count": 76,
   "id": "7e756625",
   "metadata": {},
   "outputs": [
    {
     "data": {
      "text/plain": [
       "array([[ True,  True,  True,  True, False, False, False],\n",
       "       [ True,  True,  True,  True, False, False, False],\n",
       "       [ True,  True,  True,  True, False, False, False]])"
      ]
     },
     "execution_count": 76,
     "metadata": {},
     "output_type": "execute_result"
    }
   ],
   "source": [
    "z<1"
   ]
  },
  {
   "cell_type": "code",
   "execution_count": 77,
   "id": "12a4fca2",
   "metadata": {},
   "outputs": [
    {
     "data": {
      "text/plain": [
       "array([[False, False, False, False,  True,  True,  True],\n",
       "       [False, False, False, False,  True,  True,  True],\n",
       "       [False, False, False, False,  True,  True,  True]])"
      ]
     },
     "execution_count": 77,
     "metadata": {},
     "output_type": "execute_result"
    }
   ],
   "source": [
    "z>=1"
   ]
  },
  {
   "cell_type": "code",
   "execution_count": 78,
   "id": "f8b798e1",
   "metadata": {},
   "outputs": [
    {
     "data": {
      "text/plain": [
       "array([1., 1., 1., 1., 1., 1., 1., 1., 1.])"
      ]
     },
     "execution_count": 78,
     "metadata": {},
     "output_type": "execute_result"
    }
   ],
   "source": [
    "z[z>=1]"
   ]
  },
  {
   "cell_type": "code",
   "execution_count": 80,
   "id": "b99a64cd",
   "metadata": {},
   "outputs": [
    {
     "data": {
      "text/plain": [
       "array([False, False, False, False,  True,  True,  True])"
      ]
     },
     "execution_count": 80,
     "metadata": {},
     "output_type": "execute_result"
    }
   ],
   "source": [
    "np.any(z>=1,axis=0)"
   ]
  },
  {
   "cell_type": "code",
   "execution_count": 81,
   "id": "5e1b95ad",
   "metadata": {},
   "outputs": [
    {
     "data": {
      "text/plain": [
       "array([ True,  True,  True])"
      ]
     },
     "execution_count": 81,
     "metadata": {},
     "output_type": "execute_result"
    }
   ],
   "source": [
    "np.any(z>=1,axis=1)"
   ]
  },
  {
   "cell_type": "code",
   "execution_count": 82,
   "id": "52eae466",
   "metadata": {},
   "outputs": [
    {
     "data": {
      "text/plain": [
       "array([False, False, False, False,  True,  True,  True])"
      ]
     },
     "execution_count": 82,
     "metadata": {},
     "output_type": "execute_result"
    }
   ],
   "source": [
    "np.all(z>=1,axis=0)"
   ]
  },
  {
   "cell_type": "code",
   "execution_count": 84,
   "id": "b370bb14",
   "metadata": {},
   "outputs": [
    {
     "data": {
      "text/plain": [
       "array([False, False, False])"
      ]
     },
     "execution_count": 84,
     "metadata": {},
     "output_type": "execute_result"
    }
   ],
   "source": [
    "np.all(z>=1,axis=1)"
   ]
  },
  {
   "cell_type": "code",
   "execution_count": 85,
   "id": "5e111883",
   "metadata": {},
   "outputs": [
    {
     "data": {
      "text/plain": [
       "array([[False, False, False, False,  True,  True,  True],\n",
       "       [False, False, False, False,  True,  True,  True],\n",
       "       [False, False, False, False,  True,  True,  True]])"
      ]
     },
     "execution_count": 85,
     "metadata": {},
     "output_type": "execute_result"
    }
   ],
   "source": [
    "((z>0)&(z<=1))"
   ]
  },
  {
   "cell_type": "markdown",
   "id": "7586d45e",
   "metadata": {},
   "source": [
    "### You can index with a list in numpy"
   ]
  },
  {
   "cell_type": "code",
   "execution_count": 79,
   "id": "76b5d3b6",
   "metadata": {},
   "outputs": [
    {
     "data": {
      "text/plain": [
       "array([3, 5, 4])"
      ]
     },
     "execution_count": 79,
     "metadata": {},
     "output_type": "execute_result"
    }
   ],
   "source": [
    "a=np.array([2,3,4,5,5])\n",
    "a[[1,4,2]]"
   ]
  },
  {
   "cell_type": "markdown",
   "id": "7bd0e246",
   "metadata": {},
   "source": [
    "## EXERCISE"
   ]
  },
  {
   "cell_type": "code",
   "execution_count": 90,
   "id": "1dcf55ce",
   "metadata": {},
   "outputs": [
    {
     "name": "stdout",
     "output_type": "stream",
     "text": [
      "[[46 51 69 31 89]\n",
      " [56 61 17  9 47]\n",
      " [44 58 82 88 95]\n",
      " [25 69 28 61 31]\n",
      " [87 47 51 85 35]\n",
      " [15 69 64 66 74]]\n"
     ]
    }
   ],
   "source": [
    "a=np.random.randint(3,100,size=(6,5))\n",
    "print(a)"
   ]
  },
  {
   "cell_type": "code",
   "execution_count": 93,
   "id": "44a2c6e0",
   "metadata": {},
   "outputs": [
    {
     "data": {
      "text/plain": [
       "array([51, 17, 88, 31])"
      ]
     },
     "execution_count": 93,
     "metadata": {},
     "output_type": "execute_result"
    }
   ],
   "source": [
    "a[[0,1,2,3],[1,2,3,4]] #selecting elements in a diagonal"
   ]
  },
  {
   "cell_type": "code",
   "execution_count": 97,
   "id": "ec67f3df",
   "metadata": {},
   "outputs": [
    {
     "data": {
      "text/plain": [
       "array([[31, 89],\n",
       "       [85, 35],\n",
       "       [66, 74]])"
      ]
     },
     "execution_count": 97,
     "metadata": {},
     "output_type": "execute_result"
    }
   ],
   "source": [
    "a[[0,4,5],3:]"
   ]
  },
  {
   "cell_type": "code",
   "execution_count": null,
   "id": "15134b2d",
   "metadata": {},
   "outputs": [],
   "source": []
  }
 ],
 "metadata": {
  "kernelspec": {
   "display_name": "Python 3 (ipykernel)",
   "language": "python",
   "name": "python3"
  },
  "language_info": {
   "codemirror_mode": {
    "name": "ipython",
    "version": 3
   },
   "file_extension": ".py",
   "mimetype": "text/x-python",
   "name": "python",
   "nbconvert_exporter": "python",
   "pygments_lexer": "ipython3",
   "version": "3.9.7"
  }
 },
 "nbformat": 4,
 "nbformat_minor": 5
}
